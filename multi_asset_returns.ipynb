{
 "cells": [
  {
   "cell_type": "code",
   "execution_count": 1,
   "id": "b53c53d1-0cb8-4b95-84c6-093c73c6052b",
   "metadata": {},
   "outputs": [],
   "source": [
    "# Multi Asset Returns"
   ]
  },
  {
   "cell_type": "code",
   "execution_count": 2,
   "id": "9abd3cd0-446c-4a0e-8569-fa4cd523b87b",
   "metadata": {},
   "outputs": [],
   "source": [
    "import pandas as pd\n",
    "import numpy as np"
   ]
  },
  {
   "cell_type": "code",
   "execution_count": 3,
   "id": "53f4f313-ec5d-4008-8138-e0e1f0eef827",
   "metadata": {},
   "outputs": [
    {
     "name": "stdout",
     "output_type": "stream",
     "text": [
      "                      Price\n",
      "Date       Ticker          \n",
      "2021-01-01 AAPL   -0.330261\n",
      "           FB      0.894779\n",
      "           GE     -1.071945\n",
      "           AMZN   -0.628210\n",
      "           DAI     0.288541\n",
      "2021-01-04 AAPL   -1.146145\n",
      "           FB      1.593541\n",
      "           GE     -0.274724\n",
      "           AMZN   -0.082597\n",
      "           DAI    -1.227816\n"
     ]
    }
   ],
   "source": [
    "# business days in 2021\n",
    "business_dates = pd.bdate_range('2021-01-01', '2021-12-31')\n",
    "\n",
    "# tickers\n",
    "tickers = ['AAPL', 'FB', 'GE', 'AMZN', 'DAI']\n",
    "\n",
    "# multi-index (Date, Ticker)\n",
    "index = pd.MultiIndex.from_product([business_dates, tickers], names=['Date', 'Ticker'])\n",
    "\n",
    "# simulated prices\n",
    "market_data = pd.DataFrame(\n",
    "    index=index,\n",
    "    data=np.random.randn(len(index), 1),\n",
    "    columns=['Price']\n",
    ")\n",
    "\n",
    "print(market_data.head(10))\n"
   ]
  },
  {
   "cell_type": "code",
   "execution_count": 5,
   "id": "a7da0b40-a9fe-480b-8a0c-c2518ebd93c6",
   "metadata": {},
   "outputs": [
    {
     "data": {
      "text/html": [
       "<div>\n",
       "<style scoped>\n",
       "    .dataframe tbody tr th:only-of-type {\n",
       "        vertical-align: middle;\n",
       "    }\n",
       "\n",
       "    .dataframe tbody tr th {\n",
       "        vertical-align: top;\n",
       "    }\n",
       "\n",
       "    .dataframe thead th {\n",
       "        text-align: right;\n",
       "    }\n",
       "</style>\n",
       "<table border=\"1\" class=\"dataframe\">\n",
       "  <thead>\n",
       "    <tr style=\"text-align: right;\">\n",
       "      <th>Ticker</th>\n",
       "      <th>AAPL</th>\n",
       "      <th>AMZN</th>\n",
       "      <th>DAI</th>\n",
       "      <th>FB</th>\n",
       "      <th>GE</th>\n",
       "    </tr>\n",
       "    <tr>\n",
       "      <th>Date</th>\n",
       "      <th></th>\n",
       "      <th></th>\n",
       "      <th></th>\n",
       "      <th></th>\n",
       "      <th></th>\n",
       "    </tr>\n",
       "  </thead>\n",
       "  <tbody>\n",
       "    <tr>\n",
       "      <th>2021-01-01</th>\n",
       "      <td>-0.330261</td>\n",
       "      <td>-0.628210</td>\n",
       "      <td>0.288541</td>\n",
       "      <td>0.894779</td>\n",
       "      <td>-1.071945</td>\n",
       "    </tr>\n",
       "    <tr>\n",
       "      <th>2021-01-04</th>\n",
       "      <td>-1.146145</td>\n",
       "      <td>-0.082597</td>\n",
       "      <td>-1.227816</td>\n",
       "      <td>1.593541</td>\n",
       "      <td>-0.274724</td>\n",
       "    </tr>\n",
       "    <tr>\n",
       "      <th>2021-01-05</th>\n",
       "      <td>0.138151</td>\n",
       "      <td>0.838443</td>\n",
       "      <td>-0.237754</td>\n",
       "      <td>-0.280965</td>\n",
       "      <td>0.110191</td>\n",
       "    </tr>\n",
       "    <tr>\n",
       "      <th>2021-01-06</th>\n",
       "      <td>0.274790</td>\n",
       "      <td>-0.388742</td>\n",
       "      <td>-0.306253</td>\n",
       "      <td>1.991865</td>\n",
       "      <td>0.185886</td>\n",
       "    </tr>\n",
       "    <tr>\n",
       "      <th>2021-01-07</th>\n",
       "      <td>0.119166</td>\n",
       "      <td>0.112764</td>\n",
       "      <td>0.287656</td>\n",
       "      <td>-0.513656</td>\n",
       "      <td>2.177092</td>\n",
       "    </tr>\n",
       "    <tr>\n",
       "      <th>...</th>\n",
       "      <td>...</td>\n",
       "      <td>...</td>\n",
       "      <td>...</td>\n",
       "      <td>...</td>\n",
       "      <td>...</td>\n",
       "    </tr>\n",
       "    <tr>\n",
       "      <th>2021-12-27</th>\n",
       "      <td>0.173510</td>\n",
       "      <td>0.419268</td>\n",
       "      <td>-0.787654</td>\n",
       "      <td>-1.418818</td>\n",
       "      <td>-0.847868</td>\n",
       "    </tr>\n",
       "    <tr>\n",
       "      <th>2021-12-28</th>\n",
       "      <td>-0.845038</td>\n",
       "      <td>-0.493614</td>\n",
       "      <td>0.183989</td>\n",
       "      <td>0.919265</td>\n",
       "      <td>0.632118</td>\n",
       "    </tr>\n",
       "    <tr>\n",
       "      <th>2021-12-29</th>\n",
       "      <td>0.285274</td>\n",
       "      <td>-0.174253</td>\n",
       "      <td>0.787007</td>\n",
       "      <td>-0.297861</td>\n",
       "      <td>0.776247</td>\n",
       "    </tr>\n",
       "    <tr>\n",
       "      <th>2021-12-30</th>\n",
       "      <td>-1.151730</td>\n",
       "      <td>1.688782</td>\n",
       "      <td>0.368420</td>\n",
       "      <td>1.768336</td>\n",
       "      <td>-1.445647</td>\n",
       "    </tr>\n",
       "    <tr>\n",
       "      <th>2021-12-31</th>\n",
       "      <td>0.137621</td>\n",
       "      <td>1.201283</td>\n",
       "      <td>0.974654</td>\n",
       "      <td>1.082908</td>\n",
       "      <td>-0.582820</td>\n",
       "    </tr>\n",
       "  </tbody>\n",
       "</table>\n",
       "<p>261 rows × 5 columns</p>\n",
       "</div>"
      ],
      "text/plain": [
       "Ticker          AAPL      AMZN       DAI        FB        GE\n",
       "Date                                                        \n",
       "2021-01-01 -0.330261 -0.628210  0.288541  0.894779 -1.071945\n",
       "2021-01-04 -1.146145 -0.082597 -1.227816  1.593541 -0.274724\n",
       "2021-01-05  0.138151  0.838443 -0.237754 -0.280965  0.110191\n",
       "2021-01-06  0.274790 -0.388742 -0.306253  1.991865  0.185886\n",
       "2021-01-07  0.119166  0.112764  0.287656 -0.513656  2.177092\n",
       "...              ...       ...       ...       ...       ...\n",
       "2021-12-27  0.173510  0.419268 -0.787654 -1.418818 -0.847868\n",
       "2021-12-28 -0.845038 -0.493614  0.183989  0.919265  0.632118\n",
       "2021-12-29  0.285274 -0.174253  0.787007 -0.297861  0.776247\n",
       "2021-12-30 -1.151730  1.688782  0.368420  1.768336 -1.445647\n",
       "2021-12-31  0.137621  1.201283  0.974654  1.082908 -0.582820\n",
       "\n",
       "[261 rows x 5 columns]"
      ]
     },
     "execution_count": 5,
     "metadata": {},
     "output_type": "execute_result"
    }
   ],
   "source": [
    "# Pivot to get prices by ticker as columns\n",
    "pivot_prices = market_data.reset_index().pivot_table(\n",
    "    index='Date', \n",
    "    columns='Ticker', \n",
    "    values='Price'\n",
    ")\n",
    "pivot_prices"
   ]
  },
  {
   "cell_type": "code",
   "execution_count": 10,
   "id": "c52f71ac-e574-457f-9363-38b07c35fb90",
   "metadata": {},
   "outputs": [
    {
     "name": "stdout",
     "output_type": "stream",
     "text": [
      "Multi-asset daily returns:\n",
      "Ticker          AAPL       AMZN       DAI        FB         GE\n",
      "Date                                                          \n",
      "2021-01-01       NaN        NaN       NaN       NaN        NaN\n",
      "2021-01-04  2.470418  -0.868520 -5.255258  0.780932  -0.743715\n",
      "2021-01-05 -1.120535 -11.150969 -0.806360 -1.176315  -1.401096\n",
      "2021-01-06  0.989060  -1.463648  0.288110 -8.089374   0.686951\n",
      "2021-01-07 -0.566338  -1.290074 -1.939276 -1.257877  10.711963\n"
     ]
    }
   ],
   "source": [
    "# Compute daily returns without for loop\n",
    "daily_returns = pivot_prices.pct_change()\n",
    "\n",
    "print(\"Multi-asset daily returns:\")\n",
    "print(daily_returns.head())"
   ]
  },
  {
   "cell_type": "code",
   "execution_count": 9,
   "id": "ba62d431-ae09-4391-8c65-6d4a65ef1c70",
   "metadata": {},
   "outputs": [
    {
     "name": "stdout",
     "output_type": "stream",
     "text": [
      "\n",
      "Using groupby method (should be identical):\n",
      "Ticker          AAPL       AMZN       DAI        FB         GE\n",
      "Date                                                          \n",
      "2021-01-01       NaN        NaN       NaN       NaN        NaN\n",
      "2021-01-04  2.470418  -0.868520 -5.255258  0.780932  -0.743715\n",
      "2021-01-05 -1.120535 -11.150969 -0.806360 -1.176315  -1.401096\n",
      "2021-01-06  0.989060  -1.463648  0.288110 -8.089374   0.686951\n",
      "2021-01-07 -0.566338  -1.290074 -1.939276 -1.257877  10.711963\n"
     ]
    }
   ],
   "source": [
    "# Alternative method using groupby (more efficient for large datasets)\n",
    "daily_returns_groupby = market_data.groupby('Ticker')['Price'].pct_change().unstack('Ticker')\n",
    "print(\"\\nUsing groupby method (should be identical):\")\n",
    "print(daily_returns_groupby.head())"
   ]
  },
  {
   "cell_type": "code",
   "execution_count": null,
   "id": "13a61db8-7f8f-4114-a936-95798b45f210",
   "metadata": {},
   "outputs": [],
   "source": []
  }
 ],
 "metadata": {
  "kernelspec": {
   "display_name": "Python 3 (ipykernel)",
   "language": "python",
   "name": "python3"
  },
  "language_info": {
   "codemirror_mode": {
    "name": "ipython",
    "version": 3
   },
   "file_extension": ".py",
   "mimetype": "text/x-python",
   "name": "python",
   "nbconvert_exporter": "python",
   "pygments_lexer": "ipython3",
   "version": "3.12.11"
  }
 },
 "nbformat": 4,
 "nbformat_minor": 5
}
