{
 "cells": [
  {
   "cell_type": "code",
   "execution_count": 1,
   "id": "21c3c954-898f-4a6a-8672-51417d2b503c",
   "metadata": {},
   "outputs": [],
   "source": [
    "# 1. Integer Series"
   ]
  },
  {
   "cell_type": "code",
   "execution_count": 2,
   "id": "311a95a1-2fb0-4c32-8a62-fcee75622296",
   "metadata": {},
   "outputs": [],
   "source": [
    "import pandas as pd"
   ]
  },
  {
   "cell_type": "code",
   "execution_count": 3,
   "id": "a9521cf5-9e28-4f15-b678-98c9a1fb98c2",
   "metadata": {},
   "outputs": [
    {
     "data": {
      "text/plain": [
       "2010-01-01       0\n",
       "2010-01-02       1\n",
       "2010-01-03       2\n",
       "2010-01-04       3\n",
       "2010-01-05       4\n",
       "              ... \n",
       "2020-12-27    4013\n",
       "2020-12-28    4014\n",
       "2020-12-29    4015\n",
       "2020-12-30    4016\n",
       "2020-12-31    4017\n",
       "Freq: D, Name: days_since_2010, Length: 4018, dtype: int64"
      ]
     },
     "execution_count": 3,
     "metadata": {},
     "output_type": "execute_result"
    }
   ],
   "source": [
    "# Create Series from 2010-01-01 to 2020-12-31\n",
    "# Create date range\n",
    "date_range = pd.date_range(start=\"2010-01-01\", end=\"2020-12-31\", freq=\"D\")\n",
    "integer_series = pd.Series(range(len(date_range)), index=date_range)\n",
    "integer_series.name = 'days_since_2010'\n",
    "integer_series"
   ]
  },
  {
   "cell_type": "code",
   "execution_count": 6,
   "id": "a41b7123-3dae-4043-a850-616a205dd6ce",
   "metadata": {},
   "outputs": [
    {
     "data": {
      "text/plain": [
       "2010-01-01       NaN\n",
       "2010-01-02       NaN\n",
       "2010-01-03       NaN\n",
       "2010-01-04       NaN\n",
       "2010-01-05       NaN\n",
       "               ...  \n",
       "2020-12-27    4010.0\n",
       "2020-12-28    4011.0\n",
       "2020-12-29    4012.0\n",
       "2020-12-30    4013.0\n",
       "2020-12-31    4014.0\n",
       "Freq: D, Name: days_since_2010, Length: 4018, dtype: float64"
      ]
     },
     "execution_count": 6,
     "metadata": {},
     "output_type": "execute_result"
    }
   ],
   "source": [
    "# 2. Compute 7-day moving average without for loop\n",
    "moving_avg_7d = integer_series.rolling(window=7).mean()\n",
    "moving_avg_7d"
   ]
  },
  {
   "cell_type": "code",
   "execution_count": 8,
   "id": "d4eb2d31-496a-4608-9a11-50b6938797ed",
   "metadata": {},
   "outputs": [
    {
     "data": {
      "text/plain": [
       "2010-01-07       3.0\n",
       "2010-01-08       4.0\n",
       "2010-01-09       5.0\n",
       "2010-01-10       6.0\n",
       "2010-01-11       7.0\n",
       "               ...  \n",
       "2020-12-27    4010.0\n",
       "2020-12-28    4011.0\n",
       "2020-12-29    4012.0\n",
       "2020-12-30    4013.0\n",
       "2020-12-31    4014.0\n",
       "Freq: D, Name: days_since_2010, Length: 4012, dtype: float64"
      ]
     },
     "execution_count": 8,
     "metadata": {},
     "output_type": "execute_result"
    }
   ],
   "source": [
    "# Ignore rows with NaN values\n",
    "moving_avg_7d.dropna()"
   ]
  },
  {
   "cell_type": "code",
   "execution_count": null,
   "id": "48077c93-e5d3-419d-b431-6d8cf463f462",
   "metadata": {},
   "outputs": [],
   "source": []
  }
 ],
 "metadata": {
  "kernelspec": {
   "display_name": "Python 3 (ipykernel)",
   "language": "python",
   "name": "python3"
  },
  "language_info": {
   "codemirror_mode": {
    "name": "ipython",
    "version": 3
   },
   "file_extension": ".py",
   "mimetype": "text/x-python",
   "name": "python",
   "nbconvert_exporter": "python",
   "pygments_lexer": "ipython3",
   "version": "3.12.11"
  }
 },
 "nbformat": 4,
 "nbformat_minor": 5
}
