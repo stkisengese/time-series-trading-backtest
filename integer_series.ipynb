{
 "cells": [
  {
   "cell_type": "code",
   "execution_count": 1,
   "id": "21c3c954-898f-4a6a-8672-51417d2b503c",
   "metadata": {},
   "outputs": [],
   "source": [
    "# 1. Integer Series"
   ]
  },
  {
   "cell_type": "code",
   "execution_count": 2,
   "id": "311a95a1-2fb0-4c32-8a62-fcee75622296",
   "metadata": {},
   "outputs": [],
   "source": [
    "import pandas as pd"
   ]
  },
  {
   "cell_type": "code",
   "execution_count": 3,
   "id": "a9521cf5-9e28-4f15-b678-98c9a1fb98c2",
   "metadata": {},
   "outputs": [
    {
     "data": {
      "text/plain": [
       "2010-01-01       0\n",
       "2010-01-02       1\n",
       "2010-01-03       2\n",
       "2010-01-04       3\n",
       "2010-01-05       4\n",
       "              ... \n",
       "2020-12-27    4013\n",
       "2020-12-28    4014\n",
       "2020-12-29    4015\n",
       "2020-12-30    4016\n",
       "2020-12-31    4017\n",
       "Freq: D, Name: days_since_2010, Length: 4018, dtype: int64"
      ]
     },
     "execution_count": 3,
     "metadata": {},
     "output_type": "execute_result"
    }
   ],
   "source": [
    "# Create Series from 2010-01-01 to 2020-12-31\n",
    "# Create date range\n",
    "date_range = pd.date_range(start=\"2010-01-01\", end=\"2020-12-31\", freq=\"D\")\n",
    "integer_series = pd.Series(range(len(date_range)), index=date_range)\n",
    "integer_series.name = 'days_since_2010'\n",
    "integer_series"
   ]
  },
  {
   "cell_type": "code",
   "execution_count": null,
   "id": "a41b7123-3dae-4043-a850-616a205dd6ce",
   "metadata": {},
   "outputs": [],
   "source": []
  }
 ],
 "metadata": {
  "kernelspec": {
   "display_name": "Python 3 (ipykernel)",
   "language": "python",
   "name": "python3"
  },
  "language_info": {
   "codemirror_mode": {
    "name": "ipython",
    "version": 3
   },
   "file_extension": ".py",
   "mimetype": "text/x-python",
   "name": "python",
   "nbconvert_exporter": "python",
   "pygments_lexer": "ipython3",
   "version": "3.12.11"
  }
 },
 "nbformat": 4,
 "nbformat_minor": 5
}
